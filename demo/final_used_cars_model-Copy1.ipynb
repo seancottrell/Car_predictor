{
 "cells": [
  {
   "cell_type": "code",
   "execution_count": 1,
   "metadata": {},
   "outputs": [],
   "source": [
    "import numpy as np\n",
    "import pandas as pd\n",
    "import matplotlib.pyplot as plt\n",
    "import seaborn as sns\n",
    "\n",
    "fileName=\"vehicles.csv\"\n",
    "vehicles = pd.read_csv(fileName)\n",
    "vehicles\n",
    "\n",
    "vehicles = vehicles.drop(\"model\", axis=1)\n",
    "vehicles = vehicles.drop(\"url\", axis=1)\n",
    "vehicles = vehicles.drop(\"region_url\", axis=1)\n",
    "vehicles = vehicles.drop(\"image_url\", axis=1)\n",
    "vehicles = vehicles.drop(\"posting_date\", axis=1)\n",
    "vehicles = vehicles.drop(\"VIN\", axis=1)\n",
    "vehicles = vehicles.drop(\"county\", axis=1)\n",
    "vehicles = vehicles.drop(\"id\", axis=1)\n",
    "vehicles = vehicles.drop(\"description\", axis=1)\n",
    "vehicles = vehicles.drop(\"size\", axis=1)\n",
    "vehicles = vehicles.drop(\"state\", axis=1)\n",
    "vehicles = vehicles.drop(\"region\", axis=1)\n",
    "vehicles = vehicles.drop(\"title_status\", axis=1)\n",
    "vehicles = vehicles.drop(\"lat\", axis=1)\n",
    "vehicles = vehicles.drop(\"long\", axis=1)\n",
    "\n",
    "vehicles['cylinders'] = vehicles[\"cylinders\"].str.replace('cylinders', '')\n",
    "vehicles['cylinders'] = vehicles[\"cylinders\"].str.replace('other', 'NaN')\n",
    "\n",
    "vehicles = pd.DataFrame.dropna(vehicles)\n",
    "\n",
    "index_names = vehicles[vehicles['odometer'] > 300000].index\n",
    "vehicles.drop(index_names, inplace = True)\n",
    "\n",
    "index_names = vehicles[vehicles['price'] > 170000].index\n",
    "vehicles.drop(index_names, inplace = True)\n",
    "\n",
    "index_names = vehicles[vehicles['price'] < 500].index\n",
    "vehicles.drop(index_names, inplace = True)\n",
    "\n",
    "vehicles.cylinders = vehicles['cylinders'].astype(\"float\")\n",
    "\n",
    "vehicles = pd.DataFrame.dropna(vehicles)\n",
    "\n",
    "vehicles_num = ((((((((vehicles.drop(\"paint_color\", axis=1)).drop(\"type\", axis=1)).drop(\"drive\", axis=1)).drop(\"transmission\", axis=1)).drop(\"fuel\", axis=1)).drop(\"condition\", axis=1)).drop(\"manufacturer\", axis=1)).drop('price', axis=1))\n",
    "vehicles_cat = vehicles.drop(\"cylinders\", axis=1).drop('year', axis=1).drop('odometer', axis=1).drop('price', axis=1)\n",
    "targets = vehicles['price']\n",
    "\n",
    "targets = targets.astype(\"float\")"
   ]
  },
  {
   "cell_type": "code",
   "execution_count": 2,
   "metadata": {},
   "outputs": [
    {
     "data": {
      "text/plain": [
       "count    110024.000000\n",
       "mean      16261.855404\n",
       "std       13313.406886\n",
       "min         500.000000\n",
       "25%        6495.000000\n",
       "50%       11950.000000\n",
       "75%       23950.000000\n",
       "max      169999.000000\n",
       "Name: price, dtype: float64"
      ]
     },
     "execution_count": 2,
     "metadata": {},
     "output_type": "execute_result"
    }
   ],
   "source": [
    "vehicles['price'].describe()"
   ]
  },
  {
   "cell_type": "code",
   "execution_count": 3,
   "metadata": {},
   "outputs": [
    {
     "name": "stdout",
     "output_type": "stream",
     "text": [
      "<class 'pandas.core.frame.DataFrame'>\n",
      "Int64Index: 110024 entries, 31 to 426878\n",
      "Data columns (total 11 columns):\n",
      " #   Column        Non-Null Count   Dtype  \n",
      "---  ------        --------------   -----  \n",
      " 0   price         110024 non-null  int64  \n",
      " 1   year          110024 non-null  float64\n",
      " 2   manufacturer  110024 non-null  object \n",
      " 3   condition     110024 non-null  object \n",
      " 4   cylinders     110024 non-null  float64\n",
      " 5   fuel          110024 non-null  object \n",
      " 6   odometer      110024 non-null  float64\n",
      " 7   transmission  110024 non-null  object \n",
      " 8   drive         110024 non-null  object \n",
      " 9   type          110024 non-null  object \n",
      " 10  paint_color   110024 non-null  object \n",
      "dtypes: float64(3), int64(1), object(7)\n",
      "memory usage: 10.1+ MB\n"
     ]
    }
   ],
   "source": [
    "vehicles.info()"
   ]
  },
  {
   "cell_type": "code",
   "execution_count": 4,
   "metadata": {},
   "outputs": [
    {
     "data": {
      "text/plain": [
       "array(['ford', 'gmc', 'chevrolet', 'toyota', 'jeep', 'nissan', 'honda',\n",
       "       'dodge', 'chrysler', 'ram', 'mercedes-benz', 'infiniti', 'bmw',\n",
       "       'volkswagen', 'mazda', 'porsche', 'lexus', 'rover', 'ferrari',\n",
       "       'audi', 'mitsubishi', 'kia', 'hyundai', 'fiat', 'acura',\n",
       "       'cadillac', 'lincoln', 'jaguar', 'volvo', 'alfa-romeo', 'buick',\n",
       "       'subaru', 'pontiac', 'saturn', 'mini', 'tesla', 'harley-davidson',\n",
       "       'mercury', 'datsun', 'land rover', 'aston-martin', 'morgan'],\n",
       "      dtype=object)"
      ]
     },
     "execution_count": 4,
     "metadata": {},
     "output_type": "execute_result"
    }
   ],
   "source": [
    "vehicles.manufacturer.unique()"
   ]
  },
  {
   "cell_type": "code",
   "execution_count": 5,
   "metadata": {},
   "outputs": [],
   "source": [
    "index_names = vehicles[vehicles['manufacturer'] == 'rover'].index\n",
    "vehicles.drop(index_names, inplace = True)\n",
    "\n",
    "index_names = vehicles[vehicles['manufacturer'] == 'harley-davidson'].index\n",
    "vehicles.drop(index_names, inplace = True)"
   ]
  },
  {
   "cell_type": "code",
   "execution_count": 6,
   "metadata": {},
   "outputs": [
    {
     "data": {
      "text/plain": [
       "array(['ford', 'gmc', 'chevrolet', 'toyota', 'jeep', 'nissan', 'honda',\n",
       "       'dodge', 'chrysler', 'ram', 'mercedes-benz', 'infiniti', 'bmw',\n",
       "       'volkswagen', 'mazda', 'porsche', 'lexus', 'ferrari', 'audi',\n",
       "       'mitsubishi', 'kia', 'hyundai', 'fiat', 'acura', 'cadillac',\n",
       "       'lincoln', 'jaguar', 'volvo', 'alfa-romeo', 'buick', 'subaru',\n",
       "       'pontiac', 'saturn', 'mini', 'tesla', 'mercury', 'datsun',\n",
       "       'land rover', 'aston-martin', 'morgan'], dtype=object)"
      ]
     },
     "execution_count": 6,
     "metadata": {},
     "output_type": "execute_result"
    }
   ],
   "source": [
    "vehicles.manufacturer.unique()"
   ]
  },
  {
   "cell_type": "code",
   "execution_count": 7,
   "metadata": {},
   "outputs": [
    {
     "name": "stderr",
     "output_type": "stream",
     "text": [
      "/opt/anaconda3/lib/python3.9/site-packages/seaborn/distributions.py:2619: FutureWarning: `distplot` is a deprecated function and will be removed in a future version. Please adapt your code to use either `displot` (a figure-level function with similar flexibility) or `histplot` (an axes-level function for histograms).\n",
      "  warnings.warn(msg, FutureWarning)\n"
     ]
    },
    {
     "data": {
      "image/png": "[encoded data removed]",
      "text/plain": [
       "<Figure size 1440x576 with 2 Axes>"
      ]
     },
     "metadata": {
      "needs_background": "light"
     },
     "output_type": "display_data"
    }
   ],
   "source": [
    "plt.figure(figsize=(20,8))\n",
    "\n",
    "plt.subplot(1,2,1)\n",
    "plt.title('Car Price Distribution Plot')\n",
    "sns.distplot(vehicles.price)\n",
    "\n",
    "plt.subplot(1,2,2)\n",
    "plt.title('Car Price Spread')\n",
    "sns.boxplot(x=vehicles.price)\n",
    "\n",
    "plt.show()"
   ]
  },
  {
   "cell_type": "code",
   "execution_count": 8,
   "metadata": {},
   "outputs": [
    {
     "name": "stdout",
     "output_type": "stream",
     "text": [
      "count    109505.000000\n",
      "mean      16229.426081\n",
      "std       13272.982741\n",
      "min         500.000000\n",
      "25%        6490.000000\n",
      "50%       11900.000000\n",
      "75%       23900.000000\n",
      "85%       30990.000000\n",
      "90%       35590.000000\n",
      "100%     169999.000000\n",
      "max      169999.000000\n",
      "Name: price, dtype: float64\n"
     ]
    }
   ],
   "source": [
    "print(vehicles.price.describe(percentiles = [0.25,0.50,0.75,0.85,0.90,1]))"
   ]
  },
  {
   "cell_type": "code",
   "execution_count": 9,
   "metadata": {},
   "outputs": [
    {
     "data": {
      "text/plain": [
       "[Text(0.5, 0, 'Car company'), Text(0, 0.5, 'Frequency of company')]"
      ]
     },
     "execution_count": 9,
     "metadata": {},
     "output_type": "execute_result"
    },
    {
     "data": {
      "image/png": "[encoded data removed]",
      "text/plain": [
       "<Figure size 2880x432 with 1 Axes>"
      ]
     },
     "metadata": {
      "needs_background": "light"
     },
     "output_type": "display_data"
    }
   ],
   "source": [
    "plt.figure(figsize=(40, 6))\n",
    "\n",
    "plt.subplot(1,3,1)\n",
    "plt1 = vehicles.manufacturer.value_counts().plot(kind='bar')\n",
    "plt.title('Companies Histogram')\n",
    "plt1.set(xlabel = 'Car company', ylabel='Frequency of company')"
   ]
  },
  {
   "cell_type": "code",
   "execution_count": 10,
   "metadata": {},
   "outputs": [],
   "source": [
    "vehicles.rename(\n",
    "    columns=({ 'type': 'vehicle_type'}), \n",
    "    inplace=True,\n",
    ")"
   ]
  },
  {
   "cell_type": "code",
   "execution_count": 11,
   "metadata": {},
   "outputs": [
    {
     "data": {
      "text/html": [
       "<div>\n",
       "<style scoped>\n",
       "    .dataframe tbody tr th:only-of-type {\n",
       "        vertical-align: middle;\n",
       "    }\n",
       "\n",
       "    .dataframe tbody tr th {\n",
       "        vertical-align: top;\n",
       "    }\n",
       "\n",
       "    .dataframe thead th {\n",
       "        text-align: right;\n",
       "    }\n",
       "</style>\n",
       "<table border=\"1\" class=\"dataframe\">\n",
       "  <thead>\n",
       "    <tr style=\"text-align: right;\">\n",
       "      <th></th>\n",
       "      <th>price</th>\n",
       "      <th>year</th>\n",
       "      <th>manufacturer</th>\n",
       "      <th>condition</th>\n",
       "      <th>cylinders</th>\n",
       "      <th>fuel</th>\n",
       "      <th>odometer</th>\n",
       "      <th>transmission</th>\n",
       "      <th>drive</th>\n",
       "      <th>vehicle_type</th>\n",
       "      <th>paint_color</th>\n",
       "    </tr>\n",
       "  </thead>\n",
       "  <tbody>\n",
       "    <tr>\n",
       "      <th>31</th>\n",
       "      <td>15000</td>\n",
       "      <td>2013.0</td>\n",
       "      <td>ford</td>\n",
       "      <td>excellent</td>\n",
       "      <td>6.0</td>\n",
       "      <td>gas</td>\n",
       "      <td>128000.0</td>\n",
       "      <td>automatic</td>\n",
       "      <td>rwd</td>\n",
       "      <td>truck</td>\n",
       "      <td>black</td>\n",
       "    </tr>\n",
       "    <tr>\n",
       "      <th>32</th>\n",
       "      <td>27990</td>\n",
       "      <td>2012.0</td>\n",
       "      <td>gmc</td>\n",
       "      <td>good</td>\n",
       "      <td>8.0</td>\n",
       "      <td>gas</td>\n",
       "      <td>68696.0</td>\n",
       "      <td>other</td>\n",
       "      <td>4wd</td>\n",
       "      <td>pickup</td>\n",
       "      <td>black</td>\n",
       "    </tr>\n",
       "    <tr>\n",
       "      <th>33</th>\n",
       "      <td>34590</td>\n",
       "      <td>2016.0</td>\n",
       "      <td>chevrolet</td>\n",
       "      <td>good</td>\n",
       "      <td>6.0</td>\n",
       "      <td>gas</td>\n",
       "      <td>29499.0</td>\n",
       "      <td>other</td>\n",
       "      <td>4wd</td>\n",
       "      <td>pickup</td>\n",
       "      <td>silver</td>\n",
       "    </tr>\n",
       "    <tr>\n",
       "      <th>34</th>\n",
       "      <td>35000</td>\n",
       "      <td>2019.0</td>\n",
       "      <td>toyota</td>\n",
       "      <td>excellent</td>\n",
       "      <td>6.0</td>\n",
       "      <td>gas</td>\n",
       "      <td>43000.0</td>\n",
       "      <td>automatic</td>\n",
       "      <td>4wd</td>\n",
       "      <td>truck</td>\n",
       "      <td>grey</td>\n",
       "    </tr>\n",
       "    <tr>\n",
       "      <th>35</th>\n",
       "      <td>29990</td>\n",
       "      <td>2016.0</td>\n",
       "      <td>chevrolet</td>\n",
       "      <td>good</td>\n",
       "      <td>6.0</td>\n",
       "      <td>gas</td>\n",
       "      <td>17302.0</td>\n",
       "      <td>other</td>\n",
       "      <td>4wd</td>\n",
       "      <td>pickup</td>\n",
       "      <td>red</td>\n",
       "    </tr>\n",
       "    <tr>\n",
       "      <th>...</th>\n",
       "      <td>...</td>\n",
       "      <td>...</td>\n",
       "      <td>...</td>\n",
       "      <td>...</td>\n",
       "      <td>...</td>\n",
       "      <td>...</td>\n",
       "      <td>...</td>\n",
       "      <td>...</td>\n",
       "      <td>...</td>\n",
       "      <td>...</td>\n",
       "      <td>...</td>\n",
       "    </tr>\n",
       "    <tr>\n",
       "      <th>426859</th>\n",
       "      <td>48590</td>\n",
       "      <td>2020.0</td>\n",
       "      <td>cadillac</td>\n",
       "      <td>good</td>\n",
       "      <td>6.0</td>\n",
       "      <td>gas</td>\n",
       "      <td>7701.0</td>\n",
       "      <td>other</td>\n",
       "      <td>fwd</td>\n",
       "      <td>other</td>\n",
       "      <td>black</td>\n",
       "    </tr>\n",
       "    <tr>\n",
       "      <th>426860</th>\n",
       "      <td>39990</td>\n",
       "      <td>2017.0</td>\n",
       "      <td>infiniti</td>\n",
       "      <td>good</td>\n",
       "      <td>8.0</td>\n",
       "      <td>gas</td>\n",
       "      <td>41664.0</td>\n",
       "      <td>automatic</td>\n",
       "      <td>4wd</td>\n",
       "      <td>other</td>\n",
       "      <td>black</td>\n",
       "    </tr>\n",
       "    <tr>\n",
       "      <th>426866</th>\n",
       "      <td>32990</td>\n",
       "      <td>2016.0</td>\n",
       "      <td>infiniti</td>\n",
       "      <td>good</td>\n",
       "      <td>8.0</td>\n",
       "      <td>gas</td>\n",
       "      <td>55612.0</td>\n",
       "      <td>automatic</td>\n",
       "      <td>rwd</td>\n",
       "      <td>other</td>\n",
       "      <td>black</td>\n",
       "    </tr>\n",
       "    <tr>\n",
       "      <th>426874</th>\n",
       "      <td>33590</td>\n",
       "      <td>2018.0</td>\n",
       "      <td>lexus</td>\n",
       "      <td>good</td>\n",
       "      <td>6.0</td>\n",
       "      <td>gas</td>\n",
       "      <td>30814.0</td>\n",
       "      <td>automatic</td>\n",
       "      <td>rwd</td>\n",
       "      <td>sedan</td>\n",
       "      <td>white</td>\n",
       "    </tr>\n",
       "    <tr>\n",
       "      <th>426878</th>\n",
       "      <td>28990</td>\n",
       "      <td>2018.0</td>\n",
       "      <td>lexus</td>\n",
       "      <td>good</td>\n",
       "      <td>6.0</td>\n",
       "      <td>gas</td>\n",
       "      <td>30112.0</td>\n",
       "      <td>other</td>\n",
       "      <td>fwd</td>\n",
       "      <td>sedan</td>\n",
       "      <td>silver</td>\n",
       "    </tr>\n",
       "  </tbody>\n",
       "</table>\n",
       "<p>109505 rows × 11 columns</p>\n",
       "</div>"
      ],
      "text/plain": [
       "        price    year manufacturer  condition  cylinders fuel  odometer  \\\n",
       "31      15000  2013.0         ford  excellent        6.0  gas  128000.0   \n",
       "32      27990  2012.0          gmc       good        8.0  gas   68696.0   \n",
       "33      34590  2016.0    chevrolet       good        6.0  gas   29499.0   \n",
       "34      35000  2019.0       toyota  excellent        6.0  gas   43000.0   \n",
       "35      29990  2016.0    chevrolet       good        6.0  gas   17302.0   \n",
       "...       ...     ...          ...        ...        ...  ...       ...   \n",
       "426859  48590  2020.0     cadillac       good        6.0  gas    7701.0   \n",
       "426860  39990  2017.0     infiniti       good        8.0  gas   41664.0   \n",
       "426866  32990  2016.0     infiniti       good        8.0  gas   55612.0   \n",
       "426874  33590  2018.0        lexus       good        6.0  gas   30814.0   \n",
       "426878  28990  2018.0        lexus       good        6.0  gas   30112.0   \n",
       "\n",
       "       transmission drive vehicle_type paint_color  \n",
       "31        automatic   rwd        truck       black  \n",
       "32            other   4wd       pickup       black  \n",
       "33            other   4wd       pickup      silver  \n",
       "34        automatic   4wd        truck        grey  \n",
       "35            other   4wd       pickup         red  \n",
       "...             ...   ...          ...         ...  \n",
       "426859        other   fwd        other       black  \n",
       "426860    automatic   4wd        other       black  \n",
       "426866    automatic   rwd        other       black  \n",
       "426874    automatic   rwd        sedan       white  \n",
       "426878        other   fwd        sedan      silver  \n",
       "\n",
       "[109505 rows x 11 columns]"
      ]
     },
     "execution_count": 11,
     "metadata": {},
     "output_type": "execute_result"
    }
   ],
   "source": [
    "vehicles"
   ]
  },
  {
   "cell_type": "code",
   "execution_count": 12,
   "metadata": {},
   "outputs": [],
   "source": [
    "from sklearn.preprocessing import OrdinalEncoder\n",
    "\n",
    "cat_encoder = OrdinalEncoder()\n",
    "vehicles_cat_1hot = cat_encoder.fit_transform(vehicles_cat)\n",
    "\n",
    "\n",
    "vehicles_cat_df = pd.DataFrame(vehicles_cat_1hot)\n",
    "vehicles_num.index = list(range(110024))\n",
    "frames = [vehicles_num, vehicles_cat_df]\n",
    "  \n",
    "vehicles_data_prep = pd.concat(frames, axis=1)"
   ]
  },
  {
   "cell_type": "code",
   "execution_count": 13,
   "metadata": {},
   "outputs": [
    {
     "data": {
      "text/html": [
       "<div>\n",
       "<style scoped>\n",
       "    .dataframe tbody tr th:only-of-type {\n",
       "        vertical-align: middle;\n",
       "    }\n",
       "\n",
       "    .dataframe tbody tr th {\n",
       "        vertical-align: top;\n",
       "    }\n",
       "\n",
       "    .dataframe thead th {\n",
       "        text-align: right;\n",
       "    }\n",
       "</style>\n",
       "<table border=\"1\" class=\"dataframe\">\n",
       "  <thead>\n",
       "    <tr style=\"text-align: right;\">\n",
       "      <th></th>\n",
       "      <th>year</th>\n",
       "      <th>cylinders</th>\n",
       "      <th>odometer</th>\n",
       "      <th>0</th>\n",
       "      <th>1</th>\n",
       "      <th>2</th>\n",
       "      <th>3</th>\n",
       "      <th>4</th>\n",
       "      <th>5</th>\n",
       "      <th>6</th>\n",
       "    </tr>\n",
       "  </thead>\n",
       "  <tbody>\n",
       "    <tr>\n",
       "      <th>0</th>\n",
       "      <td>2013.0</td>\n",
       "      <td>6.0</td>\n",
       "      <td>128000.0</td>\n",
       "      <td>13.0</td>\n",
       "      <td>0.0</td>\n",
       "      <td>2.0</td>\n",
       "      <td>0.0</td>\n",
       "      <td>2.0</td>\n",
       "      <td>10.0</td>\n",
       "      <td>0.0</td>\n",
       "    </tr>\n",
       "    <tr>\n",
       "      <th>1</th>\n",
       "      <td>2012.0</td>\n",
       "      <td>8.0</td>\n",
       "      <td>68696.0</td>\n",
       "      <td>14.0</td>\n",
       "      <td>2.0</td>\n",
       "      <td>2.0</td>\n",
       "      <td>2.0</td>\n",
       "      <td>0.0</td>\n",
       "      <td>8.0</td>\n",
       "      <td>0.0</td>\n",
       "    </tr>\n",
       "    <tr>\n",
       "      <th>2</th>\n",
       "      <td>2016.0</td>\n",
       "      <td>6.0</td>\n",
       "      <td>29499.0</td>\n",
       "      <td>7.0</td>\n",
       "      <td>2.0</td>\n",
       "      <td>2.0</td>\n",
       "      <td>2.0</td>\n",
       "      <td>0.0</td>\n",
       "      <td>8.0</td>\n",
       "      <td>9.0</td>\n",
       "    </tr>\n",
       "    <tr>\n",
       "      <th>3</th>\n",
       "      <td>2019.0</td>\n",
       "      <td>6.0</td>\n",
       "      <td>43000.0</td>\n",
       "      <td>39.0</td>\n",
       "      <td>0.0</td>\n",
       "      <td>2.0</td>\n",
       "      <td>0.0</td>\n",
       "      <td>0.0</td>\n",
       "      <td>10.0</td>\n",
       "      <td>5.0</td>\n",
       "    </tr>\n",
       "    <tr>\n",
       "      <th>4</th>\n",
       "      <td>2016.0</td>\n",
       "      <td>6.0</td>\n",
       "      <td>17302.0</td>\n",
       "      <td>7.0</td>\n",
       "      <td>2.0</td>\n",
       "      <td>2.0</td>\n",
       "      <td>2.0</td>\n",
       "      <td>0.0</td>\n",
       "      <td>8.0</td>\n",
       "      <td>8.0</td>\n",
       "    </tr>\n",
       "    <tr>\n",
       "      <th>...</th>\n",
       "      <td>...</td>\n",
       "      <td>...</td>\n",
       "      <td>...</td>\n",
       "      <td>...</td>\n",
       "      <td>...</td>\n",
       "      <td>...</td>\n",
       "      <td>...</td>\n",
       "      <td>...</td>\n",
       "      <td>...</td>\n",
       "      <td>...</td>\n",
       "    </tr>\n",
       "    <tr>\n",
       "      <th>110019</th>\n",
       "      <td>2020.0</td>\n",
       "      <td>6.0</td>\n",
       "      <td>7701.0</td>\n",
       "      <td>6.0</td>\n",
       "      <td>2.0</td>\n",
       "      <td>2.0</td>\n",
       "      <td>2.0</td>\n",
       "      <td>1.0</td>\n",
       "      <td>7.0</td>\n",
       "      <td>0.0</td>\n",
       "    </tr>\n",
       "    <tr>\n",
       "      <th>110020</th>\n",
       "      <td>2017.0</td>\n",
       "      <td>8.0</td>\n",
       "      <td>41664.0</td>\n",
       "      <td>18.0</td>\n",
       "      <td>2.0</td>\n",
       "      <td>2.0</td>\n",
       "      <td>0.0</td>\n",
       "      <td>0.0</td>\n",
       "      <td>7.0</td>\n",
       "      <td>0.0</td>\n",
       "    </tr>\n",
       "    <tr>\n",
       "      <th>110021</th>\n",
       "      <td>2016.0</td>\n",
       "      <td>8.0</td>\n",
       "      <td>55612.0</td>\n",
       "      <td>18.0</td>\n",
       "      <td>2.0</td>\n",
       "      <td>2.0</td>\n",
       "      <td>0.0</td>\n",
       "      <td>2.0</td>\n",
       "      <td>7.0</td>\n",
       "      <td>0.0</td>\n",
       "    </tr>\n",
       "    <tr>\n",
       "      <th>110022</th>\n",
       "      <td>2018.0</td>\n",
       "      <td>6.0</td>\n",
       "      <td>30814.0</td>\n",
       "      <td>23.0</td>\n",
       "      <td>2.0</td>\n",
       "      <td>2.0</td>\n",
       "      <td>0.0</td>\n",
       "      <td>2.0</td>\n",
       "      <td>9.0</td>\n",
       "      <td>10.0</td>\n",
       "    </tr>\n",
       "    <tr>\n",
       "      <th>110023</th>\n",
       "      <td>2018.0</td>\n",
       "      <td>6.0</td>\n",
       "      <td>30112.0</td>\n",
       "      <td>23.0</td>\n",
       "      <td>2.0</td>\n",
       "      <td>2.0</td>\n",
       "      <td>2.0</td>\n",
       "      <td>1.0</td>\n",
       "      <td>9.0</td>\n",
       "      <td>9.0</td>\n",
       "    </tr>\n",
       "  </tbody>\n",
       "</table>\n",
       "<p>110024 rows × 10 columns</p>\n",
       "</div>"
      ],
      "text/plain": [
       "          year  cylinders  odometer     0    1    2    3    4     5     6\n",
       "0       2013.0        6.0  128000.0  13.0  0.0  2.0  0.0  2.0  10.0   0.0\n",
       "1       2012.0        8.0   68696.0  14.0  2.0  2.0  2.0  0.0   8.0   0.0\n",
       "2       2016.0        6.0   29499.0   7.0  2.0  2.0  2.0  0.0   8.0   9.0\n",
       "3       2019.0        6.0   43000.0  39.0  0.0  2.0  0.0  0.0  10.0   5.0\n",
       "4       2016.0        6.0   17302.0   7.0  2.0  2.0  2.0  0.0   8.0   8.0\n",
       "...        ...        ...       ...   ...  ...  ...  ...  ...   ...   ...\n",
       "110019  2020.0        6.0    7701.0   6.0  2.0  2.0  2.0  1.0   7.0   0.0\n",
       "110020  2017.0        8.0   41664.0  18.0  2.0  2.0  0.0  0.0   7.0   0.0\n",
       "110021  2016.0        8.0   55612.0  18.0  2.0  2.0  0.0  2.0   7.0   0.0\n",
       "110022  2018.0        6.0   30814.0  23.0  2.0  2.0  0.0  2.0   9.0  10.0\n",
       "110023  2018.0        6.0   30112.0  23.0  2.0  2.0  2.0  1.0   9.0   9.0\n",
       "\n",
       "[110024 rows x 10 columns]"
      ]
     },
     "execution_count": 13,
     "metadata": {},
     "output_type": "execute_result"
    }
   ],
   "source": [
    "vehicles_data_prep"
   ]
  },
  {
   "cell_type": "code",
   "execution_count": 14,
   "metadata": {},
   "outputs": [
    {
     "data": {
      "text/plain": [
       "LinearRegression()"
      ]
     },
     "execution_count": 14,
     "metadata": {},
     "output_type": "execute_result"
    }
   ],
   "source": [
    "from sklearn.linear_model import LinearRegression\n",
    "import pandas as pd\n",
    "from sklearn.model_selection import train_test_split\n",
    "\n",
    "X_train, X_test, y_train, y_test = train_test_split(vehicles_data_prep, targets, test_size=0.15, random_state=42)\n",
    "\n",
    "\n",
    "regressor = LinearRegression()\n",
    "regressor.fit(X_train, y_train)"
   ]
  },
  {
   "cell_type": "code",
   "execution_count": 15,
   "metadata": {},
   "outputs": [
    {
     "data": {
      "text/plain": [
       "69458106.28662884"
      ]
     },
     "execution_count": 15,
     "metadata": {},
     "output_type": "execute_result"
    }
   ],
   "source": [
    "from sklearn.metrics import mean_squared_error\n",
    "\n",
    "y_preds = regressor.predict(X_test)\n",
    "SGD_rmse = mean_squared_error(y_test, y_preds)\n",
    "SGD_rmse"
   ]
  },
  {
   "cell_type": "code",
   "execution_count": 16,
   "metadata": {},
   "outputs": [],
   "source": [
    "d = {'y_pred': y_preds, 'y_test': y_test}\n",
    "compare = pd.DataFrame(data=d)"
   ]
  },
  {
   "cell_type": "code",
   "execution_count": 17,
   "metadata": {},
   "outputs": [
    {
     "data": {
      "text/html": [
       "<div>\n",
       "<style scoped>\n",
       "    .dataframe tbody tr th:only-of-type {\n",
       "        vertical-align: middle;\n",
       "    }\n",
       "\n",
       "    .dataframe tbody tr th {\n",
       "        vertical-align: top;\n",
       "    }\n",
       "\n",
       "    .dataframe thead th {\n",
       "        text-align: right;\n",
       "    }\n",
       "</style>\n",
       "<table border=\"1\" class=\"dataframe\">\n",
       "  <thead>\n",
       "    <tr style=\"text-align: right;\">\n",
       "      <th></th>\n",
       "      <th>y_pred</th>\n",
       "      <th>y_test</th>\n",
       "    </tr>\n",
       "  </thead>\n",
       "  <tbody>\n",
       "    <tr>\n",
       "      <th>68054</th>\n",
       "      <td>15889.021442</td>\n",
       "      <td>16500.0</td>\n",
       "    </tr>\n",
       "    <tr>\n",
       "      <th>309039</th>\n",
       "      <td>11153.647824</td>\n",
       "      <td>29950.0</td>\n",
       "    </tr>\n",
       "    <tr>\n",
       "      <th>305583</th>\n",
       "      <td>14446.549011</td>\n",
       "      <td>7998.0</td>\n",
       "    </tr>\n",
       "    <tr>\n",
       "      <th>345957</th>\n",
       "      <td>4224.610289</td>\n",
       "      <td>3500.0</td>\n",
       "    </tr>\n",
       "    <tr>\n",
       "      <th>155467</th>\n",
       "      <td>1834.213880</td>\n",
       "      <td>5500.0</td>\n",
       "    </tr>\n",
       "    <tr>\n",
       "      <th>...</th>\n",
       "      <td>...</td>\n",
       "      <td>...</td>\n",
       "    </tr>\n",
       "    <tr>\n",
       "      <th>415049</th>\n",
       "      <td>-1163.318203</td>\n",
       "      <td>9000.0</td>\n",
       "    </tr>\n",
       "    <tr>\n",
       "      <th>49179</th>\n",
       "      <td>10195.256239</td>\n",
       "      <td>6488.0</td>\n",
       "    </tr>\n",
       "    <tr>\n",
       "      <th>200911</th>\n",
       "      <td>37472.809331</td>\n",
       "      <td>72900.0</td>\n",
       "    </tr>\n",
       "    <tr>\n",
       "      <th>181665</th>\n",
       "      <td>9992.682587</td>\n",
       "      <td>5995.0</td>\n",
       "    </tr>\n",
       "    <tr>\n",
       "      <th>420530</th>\n",
       "      <td>41036.392523</td>\n",
       "      <td>36990.0</td>\n",
       "    </tr>\n",
       "  </tbody>\n",
       "</table>\n",
       "<p>16504 rows × 2 columns</p>\n",
       "</div>"
      ],
      "text/plain": [
       "              y_pred   y_test\n",
       "68054   15889.021442  16500.0\n",
       "309039  11153.647824  29950.0\n",
       "305583  14446.549011   7998.0\n",
       "345957   4224.610289   3500.0\n",
       "155467   1834.213880   5500.0\n",
       "...              ...      ...\n",
       "415049  -1163.318203   9000.0\n",
       "49179   10195.256239   6488.0\n",
       "200911  37472.809331  72900.0\n",
       "181665   9992.682587   5995.0\n",
       "420530  41036.392523  36990.0\n",
       "\n",
       "[16504 rows x 2 columns]"
      ]
     },
     "execution_count": 17,
     "metadata": {},
     "output_type": "execute_result"
    }
   ],
   "source": [
    "compare"
   ]
  },
  {
   "cell_type": "code",
   "execution_count": 18,
   "metadata": {},
   "outputs": [
    {
     "data": {
      "text/plain": [
       "['final_used_cars_model.pkl']"
      ]
     },
     "execution_count": 18,
     "metadata": {},
     "output_type": "execute_result"
    }
   ],
   "source": [
    "import joblib\n",
    "joblib.dump(regressor, 'final_used_cars_model.pkl')"
   ]
  },
  {
   "cell_type": "code",
   "execution_count": 19,
   "metadata": {},
   "outputs": [],
   "source": [
    "data = pd.DataFrame({'Make_year': [2013], 'Cylinders': [6], 'Mileage': [128000], 'Manufacturer': [13.0],\n",
    "                     'Condition': [0.0], 'Fuel_type': [2.0], 'Transmission_type': [0.0], 'Drivetrain': [4.0],\n",
    "                     'Vehicle_type': [10.0], 'Paint_color': [0.0]})\n",
    "\n",
    "# open the file\n",
    "file = open(\"final_used_cars_model.pkl\", \"rb\")\n",
    "\n",
    "# load trained model\n",
    "trained_model = joblib.load(file)\n",
    "\n",
    "# prediction\n",
    "prediction = trained_model.predict(data)"
   ]
  },
  {
   "cell_type": "code",
   "execution_count": 20,
   "metadata": {},
   "outputs": [
    {
     "data": {
      "text/plain": [
       "array([8090.45776638])"
      ]
     },
     "execution_count": 20,
     "metadata": {},
     "output_type": "execute_result"
    }
   ],
   "source": [
    "prediction"
   ]
  }
 ],
 "metadata": {
  "kernelspec": {
   "display_name": "Python 3 (ipykernel)",
   "language": "python",
   "name": "python3"
  },
  "language_info": {
   "codemirror_mode": {
    "name": "ipython",
    "version": 3
   },
   "file_extension": ".py",
   "mimetype": "text/x-python",
   "name": "python",
   "nbconvert_exporter": "python",
   "pygments_lexer": "ipython3",
   "version": "3.9.7"
  }
 },
 "nbformat": 4,
 "nbformat_minor": 4
}
